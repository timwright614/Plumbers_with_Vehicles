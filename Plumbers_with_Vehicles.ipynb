{
  "nbformat": 4,
  "nbformat_minor": 0,
  "metadata": {
    "colab": {
      "provenance": [],
      "collapsed_sections": []
    },
    "kernelspec": {
      "name": "python3",
      "display_name": "Python 3"
    },
    "language_info": {
      "name": "python"
    }
  },
  "cells": [
    {
      "cell_type": "code",
      "execution_count": null,
      "metadata": {
        "id": "8yDZCmddpeSX"
      },
      "outputs": [],
      "source": [
        "import json\n",
        "from urllib.parse import urlencode\n",
        "import requests\n",
        "import random\n",
        "from bs4 import BeautifulSoup\n",
        "from lxml import etree\n",
        "import re\n",
        "import os\n",
        "from io import BytesIO\n",
        "from PIL import Image"
      ]
    },
    {
      "cell_type": "code",
      "source": [
        "!pip install tldextract\n",
        "from tldextract import extract"
      ],
      "metadata": {
        "colab": {
          "base_uri": "https://localhost:8080/"
        },
        "id": "Xh3hjhYM_4xv",
        "outputId": "eb087db0-f57f-4f3e-acde-3b5873f4ddae"
      },
      "execution_count": null,
      "outputs": [
        {
          "output_type": "stream",
          "name": "stdout",
          "text": [
            "Looking in indexes: https://pypi.org/simple, https://us-python.pkg.dev/colab-wheels/public/simple/\n",
            "Collecting tldextract\n",
            "  Downloading tldextract-3.4.0-py3-none-any.whl (93 kB)\n",
            "\u001b[K     |████████████████████████████████| 93 kB 1.8 MB/s \n",
            "\u001b[?25hCollecting requests-file>=1.4\n",
            "  Downloading requests_file-1.5.1-py2.py3-none-any.whl (3.7 kB)\n",
            "Requirement already satisfied: filelock>=3.0.8 in /usr/local/lib/python3.7/dist-packages (from tldextract) (3.8.0)\n",
            "Requirement already satisfied: requests>=2.1.0 in /usr/local/lib/python3.7/dist-packages (from tldextract) (2.23.0)\n",
            "Requirement already satisfied: idna in /usr/local/lib/python3.7/dist-packages (from tldextract) (2.10)\n",
            "Requirement already satisfied: chardet<4,>=3.0.2 in /usr/local/lib/python3.7/dist-packages (from requests>=2.1.0->tldextract) (3.0.4)\n",
            "Requirement already satisfied: urllib3!=1.25.0,!=1.25.1,<1.26,>=1.21.1 in /usr/local/lib/python3.7/dist-packages (from requests>=2.1.0->tldextract) (1.24.3)\n",
            "Requirement already satisfied: certifi>=2017.4.17 in /usr/local/lib/python3.7/dist-packages (from requests>=2.1.0->tldextract) (2022.9.24)\n",
            "Requirement already satisfied: six in /usr/local/lib/python3.7/dist-packages (from requests-file>=1.4->tldextract) (1.15.0)\n",
            "Installing collected packages: requests-file, tldextract\n",
            "Successfully installed requests-file-1.5.1 tldextract-3.4.0\n"
          ]
        }
      ]
    },
    {
      "cell_type": "code",
      "source": [
        "import signal\n",
        "from contextlib import contextmanager\n",
        "\n",
        "class TimeoutException(Exception): pass\n",
        "\n",
        "@contextmanager\n",
        "\n",
        "def time_limit(seconds):\n",
        "    def signal_handler(signum, frame):\n",
        "        raise TimeoutException(\"Timed out!\")\n",
        "    signal.signal(signal.SIGALRM, signal_handler)\n",
        "    signal.alarm(seconds)\n",
        "    try:\n",
        "        yield\n",
        "    finally:\n",
        "        signal.alarm(0)"
      ],
      "metadata": {
        "id": "BHX3pnbAEgbC"
      },
      "execution_count": null,
      "outputs": []
    },
    {
      "cell_type": "code",
      "source": [
        "def random_headers():\n",
        "    headers = {\n",
        "        'User-Agent': random.choice(\n",
        "            [\n",
        "                'Mozilla/5.0 (Windows NT 10.0; Win64; x64) AppleWebKit/537.36 (KHTML, like Gecko) Chrome/74.0.3729.131 Safari/537.36',\n",
        "                'Mozilla/5.0 (Windows NT 10.0; Win64; x64) AppleWebKit/537.36 (KHTML, like Gecko) Chrome/74.0.3729.169 Safari/537.36',\n",
        "                'Mozilla/5.0 (Windows NT 10.0; Win64; x64; rv:66.0) Gecko/20100101 Firefox/66.0',\n",
        "                'Mozilla/5.0 (Windows NT 10.0; Win 64; x64) AppleWebKit/537.36 (KHTML, like Gecko) Chrome/74.0.3729.157 Safari/537.36',\n",
        "                'Mozilla/5.0 (Windows NT 10.0; Win64; x64) AppleWebKit/537.36 (KTML, like Gecko) Chrome/73.0.3683.103 Safari/537.36',\n",
        "            ]\n",
        "        )          \n",
        "    }\n",
        "    return headers"
      ],
      "metadata": {
        "id": "FELdVtaPPVDc"
      },
      "execution_count": null,
      "outputs": []
    },
    {
      "cell_type": "code",
      "source": [
        "def get_google_results(query, num_pages):\n",
        "\n",
        "    logs = {}\n",
        "\n",
        "    domain = 'com'\n",
        "    payload = {\n",
        "        'q': query, \n",
        "        'uule': 'w+CAIQICIGTE9ORE9O'\n",
        "    }\n",
        "\n",
        "    links = [] \n",
        "\n",
        "    for count in range(0, num_pages * 10, 10):\n",
        "        payload['start'] = count # One page is equal to 10 google results.\n",
        "\n",
        "        params = urlencode(payload)\n",
        "        url = f'https://www.google.{domain}/search?{params}'\n",
        "\n",
        "        # Scrape.\n",
        "        response = requests.get(url=url, headers=random_headers())\n",
        "        soup = BeautifulSoup(response.content, 'html.parser')\n",
        "        \n",
        "        unwanted_list = ['google', 'search', '#', 'facebook', 'instagram']\n",
        "\n",
        "        for ref in set(soup.findAll('a')):\n",
        "                href  = ref.get('href')\n",
        "                if type(href) == str:\n",
        "                    good_link = True\n",
        "                    for unwanted in unwanted_list:\n",
        "                        if unwanted in href:\n",
        "                            good_link = False\n",
        "                            dict_append_or_create(href, f'Filtered: On {unwanted}', logs)\n",
        "                    \n",
        "                    if good_link and 'https' in href:\n",
        "                        links.append(href)\n",
        "                    else: \n",
        "                        if good_link:\n",
        "                            dict_append_or_create(href, 'Filtered: https', logs)\n",
        "                            \n",
        "    return links, logs"
      ],
      "metadata": {
        "id": "HaLKIDZGwFjw"
      },
      "execution_count": null,
      "outputs": []
    },
    {
      "cell_type": "code",
      "source": [
        "def url_rank(url):\n",
        "    rank = 0\n",
        "    if 'about' not in url.lower():\n",
        "        rank += 200\n",
        "    rank += (len(url))\n",
        "    return rank"
      ],
      "metadata": {
        "id": "A_myXXL8qdyL"
      },
      "execution_count": null,
      "outputs": []
    },
    {
      "cell_type": "code",
      "source": [
        "def get_domain(url):\n",
        "    tsd, td, tsu = extract(url)\n",
        "    if len(tsd) > 0:\n",
        "        tsd += '.'\n",
        "    domain_url = f'https://{tsd}.{td}.{tsu}'\n",
        "    return url"
      ],
      "metadata": {
        "id": "U2BXLDrDE0tN"
      },
      "execution_count": null,
      "outputs": []
    },
    {
      "cell_type": "code",
      "source": [
        "tim = {}\n",
        "tim[2] =['tim']\n",
        "type(tim[2])"
      ],
      "metadata": {
        "colab": {
          "base_uri": "https://localhost:8080/"
        },
        "id": "7TIxnmT4xBBt",
        "outputId": "fab385f5-58cd-44fc-96cc-fb970b7fc20a"
      },
      "execution_count": null,
      "outputs": [
        {
          "output_type": "execute_result",
          "data": {
            "text/plain": [
              "list"
            ]
          },
          "metadata": {},
          "execution_count": 26
        }
      ]
    },
    {
      "cell_type": "code",
      "source": [
        "def dict_append_or_create(key, value, d):\n",
        "    if key not in d.keys():\n",
        "        d[key] = [value]\n",
        "    else:\n",
        "        d[key].append(value)"
      ],
      "metadata": {
        "id": "K8qeaAqqqkmH"
      },
      "execution_count": null,
      "outputs": []
    },
    {
      "cell_type": "code",
      "source": [
        "def find_about(url):\n",
        "\n",
        "    logs = {}\n",
        "\n",
        "    tsd, td, tsu = extract(url)\n",
        "    domain_url = get_domain(url)\n",
        "\n",
        "    response = requests.get(url=domain_url, headers=random_headers())\n",
        "    soup = BeautifulSoup(response.content, 'html.parser')\n",
        "\n",
        "    possible_links = []\n",
        "\n",
        "    for ref in set(soup.findAll('a')):\n",
        "        href  = ref.get('href')\n",
        "        if type(href) == str:\n",
        "            if domain_url in href and 'about' in href.lower():\n",
        "                possible_links.append(href)\n",
        "            else:\n",
        "                dict_append_or_create(url, f'Filtered: {href} No about or domain ', logs)\n",
        "\n",
        "    possible_links.sort(key=url_rank)\n",
        "                \n",
        "    if len(possible_links) > 0:\n",
        "        \n",
        "        dict_append_or_create(url, f'Found: {possible_links[0]}', logs)\n",
        "        return possible_links[0], logs\n",
        "    \n",
        "    return False, logs"
      ],
      "metadata": {
        "id": "WpmVgo_QkXdU"
      },
      "execution_count": null,
      "outputs": []
    },
    {
      "cell_type": "code",
      "source": [
        "def google_search_about(url):\n",
        "\n",
        "    logs = {}\n",
        "\n",
        "    tsd, td, tsu = extract(url)\n",
        "    domain_url = get_domain(url)\n",
        "\n",
        "    domain_url_trimmed = domain_url.replace('https://', '')\n",
        "    domain_url_trimmed = domain_url_trimmed.replace('http://', '')\n",
        "    \n",
        "    query = f'about us {domain_url_trimmed}'\n",
        "    dict_append_or_create(url, f'Query: {query}', logs)\n",
        "    \n",
        "    domain = 'com'\n",
        "    payload = {\n",
        "        'q': query, \n",
        "        'uule': 'w+CAIQICIGTE9ORE9O'\n",
        "    }\n",
        "\n",
        "    params = urlencode(payload)\n",
        "    search_url = f'https://www.google.{domain}/search?{params}'\n",
        "\n",
        "\n",
        "    response = requests.get(url=search_url, headers=random_headers())\n",
        "    soup = BeautifulSoup(response.content, 'html.parser')\n",
        "\n",
        "    unwanted_list = ['google', 'search', '#', 'facebook', 'instagram']\n",
        "\n",
        "    possible_links = []\n",
        "\n",
        "    for ref in set(soup.findAll('a')):\n",
        "        href  = ref.get('href')\n",
        "        if type(href) == str:\n",
        "            good_link = True\n",
        "            for unwanted in unwanted_list:\n",
        "                if unwanted in href:\n",
        "                    good_link = False\n",
        "                    dict_append_or_create(url, f'Filtered: {href} on {unwanted}', logs)\n",
        "\n",
        "            if good_link and domain_url in href and 'about' in href.lower():\n",
        "                possible_links.append(href)\n",
        "            else:\n",
        "                dict_append_or_create(url, f'Filtered: {href} on domain/about', logs)\n",
        "    \n",
        "    possible_links.sort(key=url_rank)\n",
        "                \n",
        "    if len(possible_links) > 0:\n",
        "        dict_append_or_create(url, f'Found: {possible_links[0]} on via google', logs)\n",
        "        return possible_links[0], logs\n",
        "    \n",
        "    dict_append_or_create(url, f'None found:', logs)\n",
        "    return False, logs"
      ],
      "metadata": {
        "id": "Auo3C6dhpj4v"
      },
      "execution_count": null,
      "outputs": []
    },
    {
      "cell_type": "code",
      "source": [
        "def get_image_urls(url):\n",
        "    \n",
        "    logs = {}\n",
        "\n",
        "    response = requests.get(url, headers=random_headers())\n",
        "\n",
        "    soup = BeautifulSoup(response.text, 'html.parser')\n",
        "    img_tags = soup.find_all('img')\n",
        "\n",
        "    dict_append_or_create(url, f'{len(img_tags)} found', logs)\n",
        "\n",
        "    img_urls = []\n",
        "    unwanted_list = ['google', 'icon', 'logo', 'banner', 'facebook']\n",
        "\n",
        "    for img in img_tags:\n",
        "        source_found = True\n",
        "        try:\n",
        "            img_url = img[\"data-srcset\"]\n",
        "        except:\n",
        "            try:\n",
        "                img_url = img[\"data-src\"]\n",
        "            except:\n",
        "                try:\n",
        "                    img_url = img[\"src\"]\n",
        "                except:\n",
        "                    try:\n",
        "                        img_url = img[\"data-lazy-src\"]\n",
        "                    except:\n",
        "                        try: \n",
        "                            img_url = img[\"data-fallback-src\"]\n",
        "                        except:\n",
        "                            try: \n",
        "                                img_url = re.search(r'\\/\\S+?(png|jpg|gif)', str(img)).group(0)\n",
        "                            except:\n",
        "                                source_found = False\n",
        "                                dict_append_or_create(url, f'No soucre found for: {img}', logs)\n",
        "        \n",
        "        if source_found:\n",
        "            if 'http' not in img_url:\n",
        "                img_url = get_domain(url) + img_url\n",
        "                dict_append_or_create(url, f'Relative path fixed for {img}', logs)\n",
        "            \n",
        "            good_link = True\n",
        "            for unwanted in unwanted_list:\n",
        "                if unwanted in img_url:\n",
        "                    good_link = False\n",
        "                    dict_append_or_create(url,f'Filtered {img_url} on {unwanted}', logs)\n",
        "            \n",
        "            if good_link:\n",
        "                re_search = re.search(r'https:\\/\\/\\S+?(png|jpg|gif)', img_url)\n",
        "                if re_search and re_search.group(0) not in img_urls:\n",
        "                    img_urls.append(re_search.group(0))\n",
        "                    dict_append_or_create(url,f'{re_search.group(0)} found for {img}', logs)\n",
        "            else:\n",
        "                dict_append_or_create(url,f'Filtered {img} on no re match or duplicate', logs)\n",
        "    return img_urls, logs"
      ],
      "metadata": {
        "id": "jVDrf0AuAX1j"
      },
      "execution_count": null,
      "outputs": []
    },
    {
      "cell_type": "code",
      "source": [
        "def save_from_url_list(img_urls, save_dir, threshold_dim):\n",
        "\n",
        "    count = 1\n",
        "    filename_dict = {}\n",
        "\n",
        "    logs = {}\n",
        "\n",
        "    for url in img_urls:\n",
        "        \n",
        "        filename = str(count).zfill(5)\n",
        "        filename_dict[filename] = url\n",
        "\n",
        "        try:\n",
        "            response = requests.get(url, headers=random_headers())\n",
        "            response_content = response.content\n",
        "            try:\n",
        "                response_content = str(response_content, 'utf-8')\n",
        "                logs.append(f'unknown try success for {url}')\n",
        "            except UnicodeDecodeError:\n",
        "                i = Image.open(BytesIO(response_content))\n",
        "                width, height = i.size\n",
        "                \n",
        "                if width > threshold_dim and height > threshold_dim:\n",
        "                    with open(f\"{save_dir}/{filename}.jpg\", \"wb+\") as f:\n",
        "                        f.write(response_content)\n",
        "                    count += 1\n",
        "                    logs.append(f'Write attempted for {url} as {filename}')\n",
        "                else:\n",
        "                    logs.append(f'Undersize: {url}')\n",
        "        except:\n",
        "            logs.append(f'Failed to get content: {url}')\n",
        "    \n",
        "    return filename_dict, logs"
      ],
      "metadata": {
        "id": "fJhZ9IrtK4Fn"
      },
      "execution_count": null,
      "outputs": []
    },
    {
      "cell_type": "code",
      "source": [
        "results"
      ],
      "metadata": {
        "colab": {
          "base_uri": "https://localhost:8080/"
        },
        "id": "q5EA9Ul1RcIo",
        "outputId": "7129bc69-f1e5-4027-c6b3-813bf2cf5f25"
      },
      "execution_count": null,
      "outputs": [
        {
          "output_type": "execute_result",
          "data": {
            "text/plain": [
              "{'Fail: Undable to get content': [], 'Fail: Undersize': []}"
            ]
          },
          "metadata": {},
          "execution_count": 292
        }
      ]
    },
    {
      "cell_type": "code",
      "source": [
        "query = 'london plumbers uk'\n",
        "num_pages = 1\n",
        "\n",
        "search_results, search_logs = get_google_results(query, num_pages)"
      ],
      "metadata": {
        "id": "8C2S693wPBJ6"
      },
      "execution_count": null,
      "outputs": []
    },
    {
      "cell_type": "code",
      "source": [
        "search_results"
      ],
      "metadata": {
        "colab": {
          "base_uri": "https://localhost:8080/"
        },
        "id": "p4yJQHBT3NmQ",
        "outputId": "99c5220f-5c17-4312-992f-4a92f40dcf23"
      },
      "execution_count": null,
      "outputs": [
        {
          "output_type": "execute_result",
          "data": {
            "text/plain": [
              "['https://london-plumber.co.uk/services/',\n",
              " 'https://www.trustatrader.com/plumbers-in-london',\n",
              " 'https://www.pimlicoplumbers.com/',\n",
              " 'https://www.aspect.co.uk/trades/plumbing-and-cold-water/',\n",
              " 'https://www.trustatrader.com/plumbers-in-london',\n",
              " 'https://plumbforcedirect.co.uk/',\n",
              " 'https://my-plumber.co.uk/plumbing/',\n",
              " 'https://my-plumber.co.uk/prices/',\n",
              " 'https://london-plumber.co.uk/',\n",
              " 'https://my-plumber.co.uk/areas/',\n",
              " 'https://london-plumber.co.uk/rates/',\n",
              " 'https://my-plumber.co.uk/fantastic-membership-club/',\n",
              " 'https://www.aspect.co.uk/trades/plumbing-and-cold-water/',\n",
              " 'https://www.homecureplumbers.co.uk/',\n",
              " 'https://my-plumber.co.uk/',\n",
              " 'https://london-plumber.co.uk/locations/',\n",
              " 'https://london-plumber.co.uk/',\n",
              " 'https://london-plumber.co.uk/knowledge-base/',\n",
              " 'https://plumbforcedirect.co.uk/',\n",
              " 'https://www.houzz.com/professionals/plumbing-contractors/c/London--UK',\n",
              " 'https://www.homecureplumbers.co.uk/',\n",
              " 'https://www.tailoredplumbing.co.uk/']"
            ]
          },
          "metadata": {},
          "execution_count": 37
        }
      ]
    },
    {
      "cell_type": "code",
      "source": [
        "about_results = []\n",
        "about_logs = {}\n",
        "\n",
        "for url in search_results:\n",
        "    domain_results = find_about(url)\n",
        "    about_logs.update(domain_results[1])\n",
        "    if domain_results[0]:\n",
        "        about_results.append(domain_results[0])\n",
        "    else:\n",
        "        google_results = google_search_about(url)\n",
        "        about_logs.update(google_results[1])\n",
        "        if google_results[0]:\n",
        "            about_results.append(google_results[0])"
      ],
      "metadata": {
        "id": "UltGq3RT3RaP"
      },
      "execution_count": null,
      "outputs": []
    },
    {
      "cell_type": "code",
      "source": [
        "about_results"
      ],
      "metadata": {
        "colab": {
          "base_uri": "https://localhost:8080/"
        },
        "id": "bldP0_aO4mZO",
        "outputId": "6d35f2ea-5a76-42aa-a9c9-12e91ff00c27"
      },
      "execution_count": null,
      "outputs": [
        {
          "output_type": "execute_result",
          "data": {
            "text/plain": [
              "['https://www.pimlicoplumbers.com/about-us/',\n",
              " 'https://plumbforcedirect.co.uk/about-us.html',\n",
              " 'https://www.homecureplumbers.co.uk/about-us/',\n",
              " 'https://my-plumber.co.uk/about-us/',\n",
              " 'https://plumbforcedirect.co.uk/about-us.html',\n",
              " 'https://www.homecureplumbers.co.uk/about-us/',\n",
              " 'https://www.tailoredplumbing.co.uk/about/']"
            ]
          },
          "metadata": {},
          "execution_count": 56
        }
      ]
    },
    {
      "cell_type": "code",
      "source": [
        "all_results = list(set(search_results + about_results))\n",
        "\n",
        "images_logs = {}\n",
        "images_urls = {}\n",
        "\n",
        "for url in all_results:\n",
        "\n",
        "    get_images_reults = get_image_urls(url)\n",
        "    \n",
        "    images_urls[url] = get_images_reults[0]\n",
        "    images_logs.update(get_images_reults[1])"
      ],
      "metadata": {
        "id": "1ObaE2Vn4yjF"
      },
      "execution_count": null,
      "outputs": []
    },
    {
      "cell_type": "code",
      "source": [
        "images_urls"
      ],
      "metadata": {
        "colab": {
          "base_uri": "https://localhost:8080/"
        },
        "id": "tOH7UT7L9VOb",
        "outputId": "5579c0b2-c7ba-4f00-f47d-91d893406d2c"
      },
      "execution_count": null,
      "outputs": [
        {
          "output_type": "execute_result",
          "data": {
            "text/plain": [
              "{'https://www.homecureplumbers.co.uk/about-us/': ['https://www.homecureplumbers.co.uk/wp-content/uploads/2020/02/boilerrepairs-1-800x469.jpg',\n",
              "  'https://www.homecureplumbers.co.uk/wp-content/uploads/2020/02/boilerservice-1-800x469.jpg',\n",
              "  'https://www.homecureplumbers.co.uk/wp-content/uploads/2020/02/boilerinstall-1-800x469.jpg',\n",
              "  'https://www.homecureplumbers.co.uk/wp-content/uploads/2020/08/what-makes-us-different@2x-800x469.jpg',\n",
              "  'https://www.homecureplumbers.co.uk/wp-content/uploads/2020/02/plumbing-1-800x469.jpg',\n",
              "  'https://www.homecureplumbers.co.uk/wp-content/uploads/2020/02/emergencyplumber-800x469.jpg',\n",
              "  'https://www.homecureplumbers.co.uk/wp-content/uploads/2020/02/drainage-2-800x469.jpg',\n",
              "  'https://www.homecureplumbers.co.uk/wp-content/uploads/2020/02/IMG_8133-800x469.jpg',\n",
              "  'https://www.homecureplumbers.co.uk/wp-content/uploads/2020/02/engineer-800x469.jpg',\n",
              "  'https://www.homecureplumbers.co.uk/wp-content/uploads/2020/02/powerflush-1-800x469.jpg',\n",
              "  'https://www.homecureplumbers.co.uk/wp-content/uploads/2020/02/drainage-800x469.jpg',\n",
              "  'https://www.homecureplumbers.co.uk/wp-content/uploads/2020/02/electrician-800x469.jpg',\n",
              "  'https://www.homecureplumbers.co.uk/wp-content/uploads/2020/02/engineer-1920x1125.jpg',\n",
              "  'https://www.homecureplumbers.co.uk/wp-content/uploads/2022/09/Handyman_Badge-removebg-preview-296x300.png',\n",
              "  'https://www.homecureplumbers.co.uk/wp-content/uploads/2019/10/vaillant.png',\n",
              "  'https://www.homecureplumbers.co.uk/wp-content/uploads/2019/10/gas-safe.png',\n",
              "  'https://www.homecureplumbers.co.uk/wp-content/uploads/2019/10/watersafe.png',\n",
              "  'https://www.homecureplumbers.co.uk/wp-content/uploads/2019/10/worcester.png',\n",
              "  'https://www.homecureplumbers.co.uk/wp-content/uploads/2019/10/city-guilds.png',\n",
              "  'https://www.homecureplumbers.co.uk/wp-content/uploads/2019/10/aphc.png',\n",
              "  'https://www.homecureplumbers.co.uk/wp-content/themes/salty/assets/images/payment@2x.png'],\n",
              " 'https://my-plumber.co.uk/plumbing/': ['https://cdn.my-plumber.co.uk/images/layout/empty-pixel.png',\n",
              "  'https://my-plumber.co.uk/plumbing///cdn.my-plumber.co.uk/wp-content/uploads/2020/08/ben-cart-1-non-retina.png',\n",
              "  'https://my-plumber.co.uk/plumbing///cdn.my-plumber.co.uk/wp-content/uploads/2020/08/ben-cart-2-non-retina.png',\n",
              "  'https://my-plumber.co.uk/plumbing///cdn.my-plumber.co.uk/wp-content/uploads/2020/08/ben-cart-3-non-retina.png',\n",
              "  'https://my-plumber.co.uk/plumbing///cdn.my-plumber.co.uk/wp-content/uploads/2020/08/tools-background-1.png',\n",
              "  'https://my-plumber.co.uk/plumbing///cdn.my-plumber.co.uk/wp-content/uploads/2020/08/service-1-non-retina.jpg',\n",
              "  'https://my-plumber.co.uk/plumbing///cdn.my-plumber.co.uk/wp-content/uploads/2020/08/service-2-non-retina.jpg',\n",
              "  'https://my-plumber.co.uk/plumbing///cdn.my-plumber.co.uk/wp-content/uploads/2020/09/tools-background-3.png',\n",
              "  'https://my-plumber.co.uk/plumbing///cdn.my-plumber.co.uk/images/layout/paymant.png',\n",
              "  'https://my-plumber.co.uk/plumbing///cdn.my-plumber.co.uk/images/layout/fantastic-pattern.png',\n",
              "  'https://my-plumber.co.uk/plumbing///cdn.my-plumber.co.uk/wp-content/uploads/2020/08/areas-background.png',\n",
              "  'https://my-plumber.co.uk/plumbing///cdn.my-plumber.co.uk/wp-content/uploads/2020/08/plumbing-business-back.jpg',\n",
              "  'https://my-plumber.co.uk/plumbing///cdn.my-plumber.co.uk/wp-content/uploads/2020/08/plumbing-business-non-retina.jpg',\n",
              "  'https://my-plumber.co.uk/plumbing///cdn.my-plumber.co.uk/wp-content/uploads/2020/08/award-non-retina.png',\n",
              "  'https://my-plumber.co.uk/plumbing///cdn.my-plumber.co.uk/wp-content/uploads/2020/08/award-2-non-retina.png',\n",
              "  'https://my-plumber.co.uk/plumbing///cdn.my-plumber.co.uk/wp-content/uploads/2020/08/award-3-non-retina.png',\n",
              "  'https://my-plumber.co.uk/plumbing///cdn.my-plumber.co.uk/wp-content/uploads/2020/08/award-4-non-retina.png',\n",
              "  'https://my-plumber.co.uk/plumbing///cdn.my-plumber.co.uk/images/footer/paymant.png',\n",
              "  'https://my-plumber.co.uk/plumbing///cdn.my-plumber.co.uk/images/footer/stripe.png'],\n",
              " 'https://plumbforcedirect.co.uk/about-us.html': ['https://plumbforcedirect.co.uk/about-us.html/images/plumbforce/5-stars-rated.png',\n",
              "  'https://plumbforcedirect.co.uk/about-us.htmldata:image/png',\n",
              "  'https://plumbforcedirect.co.uk/about-us.html/images/plumbforce/slider/ss-bg-m.jpg',\n",
              "  'https://plumbforcedirect.co.uk/about-us.html/images/plumbforce/slider/slide-bg.jpg',\n",
              "  'https://plumbforcedirect.co.uk/about-us.html/images/plumbforce/slider/slide-bg-crop.png',\n",
              "  'https://plumbforcedirect.co.uk/about-us.html/images/plumbforce/slider/bubble.png',\n",
              "  'https://plumbforcedirect.co.uk/about-us.html/images/plumbforce/slider/tech-slide1.png',\n",
              "  'https://plumbforcedirect.co.uk/about-us.html/templates/pmtheme/cache/of_1-8432f8fe.png',\n",
              "  'https://plumbforcedirect.co.uk/about-us.html/templates/pmtheme/cache/of_2-ae8e4876.png',\n",
              "  'https://plumbforcedirect.co.uk/about-us.html/templates/pmtheme/cache/2022-05-fixed-p-h-2fdd8e28.png',\n",
              "  'https://plumbforcedirect.co.uk/about-us.html/templates/pmtheme/cache/of_3-01cada31.png',\n",
              "  'https://plumbforcedirect.co.uk/about-us.html/templates/pmtheme/cache/of_7-d14b99ee.png',\n",
              "  'https://plumbforcedirect.co.uk/about-us.html/templates/pmtheme/cache/of_6-7e0f0ba9.png',\n",
              "  'https://plumbforcedirect.co.uk/about-us.html/templates/pmtheme/cache/gas-safe-register-0cd36e7f.png',\n",
              "  'https://plumbforcedirect.co.uk/about-us.html/templates/pmtheme/cache/energy-efficiency-08b0ca81.png',\n",
              "  'https://plumbforcedirect.co.uk/about-us.html/templates/pmtheme/cache/vaillant-w-2d00e3b8.png'],\n",
              " 'https://my-plumber.co.uk/prices/': ['https://my-plumber.co.uk/prices///cdn.my-plumber.co.uk/wp-content/uploads/2020/08/tools-background-1.png',\n",
              "  'https://my-plumber.co.uk/prices///cdn.my-plumber.co.uk/images/layout/paymant.png',\n",
              "  'https://my-plumber.co.uk/prices///cdn.my-plumber.co.uk/images/layout/fantastic-pattern.png',\n",
              "  'https://my-plumber.co.uk/prices///cdn.my-plumber.co.uk/wp-content/uploads/2020/08/areas-background.png',\n",
              "  'https://my-plumber.co.uk/prices///cdn.my-plumber.co.uk/wp-content/uploads/2020/08/award-non-retina.png',\n",
              "  'https://my-plumber.co.uk/prices///cdn.my-plumber.co.uk/wp-content/uploads/2020/08/award-2-non-retina.png',\n",
              "  'https://my-plumber.co.uk/prices///cdn.my-plumber.co.uk/wp-content/uploads/2020/08/award-3-non-retina.png',\n",
              "  'https://my-plumber.co.uk/prices///cdn.my-plumber.co.uk/wp-content/uploads/2020/08/award-4-non-retina.png',\n",
              "  'https://my-plumber.co.uk/prices///cdn.my-plumber.co.uk/images/footer/paymant.png',\n",
              "  'https://my-plumber.co.uk/prices///cdn.my-plumber.co.uk/images/footer/stripe.png'],\n",
              " 'https://www.tailoredplumbing.co.uk/': ['https://sp-ao.shortpixel.ai/client/to_webp,q_glossy,ret_img/https://www.tailoredplumbing.co.uk/wp-content/themes/tailordplumbing/img/1.jpg',\n",
              "  'https://sp-ao.shortpixel.ai/client/to_webp,q_glossy,ret_img/https://www.tailoredplumbing.co.uk/wp-content/themes/tailordplumbing/img/2.jpg',\n",
              "  'https://sp-ao.shortpixel.ai/client/to_webp,q_glossy,ret_img/https://www.tailoredplumbing.co.uk/wp-content/themes/tailordplumbing/img/3.jpg',\n",
              "  'https://sp-ao.shortpixel.ai/client/to_webp,q_glossy,ret_img/https://www.tailoredplumbing.co.uk/wp-content/themes/tailordplumbing/img/4.jpg',\n",
              "  'https://sp-ao.shortpixel.ai/client/to_webp,q_glossy,ret_img/https://www.tailoredplumbing.co.uk/wp-content/themes/tailordplumbing/img/photo1.jpg',\n",
              "  'https://sp-ao.shortpixel.ai/client/to_webp,q_glossy,ret_img/https://www.tailoredplumbing.co.uk/wp-content/themes/tailordplumbing/img/services1.jpg',\n",
              "  'https://sp-ao.shortpixel.ai/client/to_webp,q_glossy,ret_img/https://www.tailoredplumbing.co.uk/wp-content/themes/tailordplumbing/img/services2.jpg',\n",
              "  'https://sp-ao.shortpixel.ai/client/to_webp,q_glossy,ret_img/https://www.tailoredplumbing.co.uk/wp-content/themes/tailordplumbing/img/services3.jpg',\n",
              "  'https://sp-ao.shortpixel.ai/client/to_webp,q_glossy,ret_img/https://www.tailoredplumbing.co.uk/wp-content/themes/tailordplumbing/img/services4.jpg',\n",
              "  'https://sp-ao.shortpixel.ai/client/to_webp,q_glossy,ret_img/https://www.tailoredplumbing.co.uk/wp-content/uploads/2022/10/How-to-make-your-boiler-more-efficient.jpg',\n",
              "  'https://sp-ao.shortpixel.ai/client/to_webp,q_glossy,ret_img/https://www.tailoredplumbing.co.uk/wp-content/uploads/2022/09/The-Difference-Between-a-Combi-and-System-Boiler.jpg',\n",
              "  'https://sp-ao.shortpixel.ai/client/to_webp,q_glossy,ret_img/https://www.tailoredplumbing.co.uk/wp-content/uploads/2022/08/Why-Invest-in-Combi-Boiler-Installation.jpg',\n",
              "  'https://sp-ao.shortpixel.ai/client/to_webp,q_glossy,ret_img/https://www.tailoredplumbing.co.uk/wp-content/themes/tailordplumbing/img/top.png'],\n",
              " 'https://my-plumber.co.uk/fantastic-membership-club/': ['https://my-plumber.co.uk/fantastic-membership-club///cdn.my-plumber.co.uk/images/membership/account-credits.png',\n",
              "  'https://my-plumber.co.uk/fantastic-membership-club///cdn.my-plumber.co.uk/images/membership/tag-discount.png',\n",
              "  'https://my-plumber.co.uk/fantastic-membership-club///cdn.my-plumber.co.uk/images/membership/wallet-save.png',\n",
              "  'https://my-plumber.co.uk/fantastic-membership-club///cdn.my-plumber.co.uk/images/membership/callendar-discount.png',\n",
              "  'https://my-plumber.co.uk/fantastic-membership-club///cdn.my-plumber.co.uk/images/membership/track-professional.png',\n",
              "  'https://my-plumber.co.uk/fantastic-membership-club///cdn.my-plumber.co.uk/images/membership/growing.png',\n",
              "  'https://my-plumber.co.uk/fantastic-membership-club///cdn.my-plumber.co.uk/images/membership/coupon-discount.png',\n",
              "  'https://my-plumber.co.uk/fantastic-membership-club///cdn.my-plumber.co.uk/images/membership/planting-tree.png',\n",
              "  'https://cdn.my-plumber.co.uk/images/layout/empty-pixel.png',\n",
              "  'https://my-plumber.co.uk/fantastic-membership-club///cdn.my-plumber.co.uk/images/footer/paymant.png',\n",
              "  'https://my-plumber.co.uk/fantastic-membership-club///cdn.my-plumber.co.uk/images/footer/stripe.png'],\n",
              " 'https://london-plumber.co.uk/rates/': ['https://london-plumber.co.uk/wp-content/uploads/rates.jpg',\n",
              "  'https://london-plumber.co.uk/wp-content/themes/staunchandflow/images/cards-ready.png'],\n",
              " 'https://www.tailoredplumbing.co.uk/about/': ['https://sp-ao.shortpixel.ai/client/to_webp,q_glossy,ret_img/https://www.tailoredplumbing.co.uk/wp-content/themes/tailordplumbing/img/services1.jpg',\n",
              "  'https://sp-ao.shortpixel.ai/client/to_webp,q_glossy,ret_img/https://www.tailoredplumbing.co.uk/wp-content/themes/tailordplumbing/img/services2.jpg',\n",
              "  'https://sp-ao.shortpixel.ai/client/to_webp,q_glossy,ret_img/https://www.tailoredplumbing.co.uk/wp-content/themes/tailordplumbing/img/services3.jpg',\n",
              "  'https://sp-ao.shortpixel.ai/client/to_webp,q_glossy,ret_img/https://www.tailoredplumbing.co.uk/wp-content/themes/tailordplumbing/img/services4.jpg',\n",
              "  'https://sp-ao.shortpixel.ai/client/to_webp,q_glossy,ret_img/https://www.tailoredplumbing.co.uk/wp-content/uploads/2022/10/How-to-make-your-boiler-more-efficient-150x150.jpg',\n",
              "  'https://sp-ao.shortpixel.ai/client/to_webp,q_glossy,ret_img/https://www.tailoredplumbing.co.uk/wp-content/uploads/2022/09/The-Difference-Between-a-Combi-and-System-Boiler-150x150.jpg',\n",
              "  'https://sp-ao.shortpixel.ai/client/to_webp,q_glossy,ret_img/https://www.tailoredplumbing.co.uk/wp-content/uploads/2022/08/Why-Invest-in-Combi-Boiler-Installation-150x150.jpg',\n",
              "  'https://sp-ao.shortpixel.ai/client/to_webp,q_glossy,ret_img/https://www.tailoredplumbing.co.uk/wp-content/themes/tailordplumbing/img/top.png'],\n",
              " 'https://london-plumber.co.uk/locations/': ['https://london-plumber.co.uk/wp-content/uploads/acton.jpg',\n",
              "  'https://london-plumber.co.uk/wp-content/uploads/balham.jpg',\n",
              "  'https://london-plumber.co.uk/wp-content/uploads/battersea_clapham.jpg',\n",
              "  'https://london-plumber.co.uk/wp-content/uploads/bloomsbury.jpg',\n",
              "  'https://london-plumber.co.uk/wp-content/uploads/chelsea.jpg',\n",
              "  'https://london-plumber.co.uk/wp-content/uploads/chiswick.jpg',\n",
              "  'https://london-plumber.co.uk/wp-content/uploads/city_of_london.jpg',\n",
              "  'https://london-plumber.co.uk/wp-content/uploads/clapham.jpg',\n",
              "  'https://london-plumber.co.uk/wp-content/uploads/cricklewood.jpg',\n",
              "  'https://london-plumber.co.uk/wp-content/uploads/earls_court.jpg',\n",
              "  'https://london-plumber.co.uk/wp-content/uploads/fulham.jpg',\n",
              "  'https://london-plumber.co.uk/wp-content/uploads/golders_green.jpg',\n",
              "  'https://london-plumber.co.uk/wp-content/uploads/hammersmith.jpg',\n",
              "  'https://london-plumber.co.uk/wp-content/uploads/hampstead.jpg',\n",
              "  'https://london-plumber.co.uk/wp-content/uploads/hendon.jpg',\n",
              "  'https://london-plumber.co.uk/wp-content/uploads/highbury.jpg',\n",
              "  'https://london-plumber.co.uk/wp-content/uploads/highgate.jpg',\n",
              "  'https://london-plumber.co.uk/wp-content/uploads/hornsey_crouch_end.jpg',\n",
              "  'https://london-plumber.co.uk/wp-content/uploads/islington.jpg',\n",
              "  'https://london-plumber.co.uk/wp-content/uploads/kensington.jpg',\n",
              "  'https://london-plumber.co.uk/wp-content/uploads/kentish_town.jpg',\n",
              "  'https://london-plumber.co.uk/wp-content/uploads/regents_park_camden_town_euston_kings_cross.jpg',\n",
              "  'https://london-plumber.co.uk/wp-content/uploads/ladbroke_grove.jpg',\n",
              "  'https://london-plumber.co.uk/wp-content/uploads/maida_vale.jpg',\n",
              "  'https://london-plumber.co.uk/wp-content/uploads/mill_hill.jpg',\n",
              "  'https://london-plumber.co.uk/wp-content/uploads/musewell_hill.jpg',\n",
              "  'https://london-plumber.co.uk/wp-content/uploads/willesden_harlesden_neasden_north_acton.jpg',\n",
              "  'https://london-plumber.co.uk/wp-content/uploads/notting_hill.jpg',\n",
              "  'https://london-plumber.co.uk/wp-content/uploads/paddington.jpg',\n",
              "  'https://london-plumber.co.uk/wp-content/uploads/kilburn_west_hampstead_queens_park.jpg',\n",
              "  'https://london-plumber.co.uk/wp-content/uploads/shepherds_bush.jpg',\n",
              "  'https://london-plumber.co.uk/wp-content/uploads/south_bank.jpg',\n",
              "  'https://london-plumber.co.uk/wp-content/uploads/south_kensington.jpg',\n",
              "  'https://london-plumber.co.uk/wp-content/uploads/st_johns_wood.jpg',\n",
              "  'https://london-plumber.co.uk/wp-content/uploads/stoke_newington.jpg',\n",
              "  'https://london-plumber.co.uk/wp-content/uploads/wandsworth.jpg',\n",
              "  'https://london-plumber.co.uk/wp-content/uploads/west_brompton.jpg',\n",
              "  'https://london-plumber.co.uk/wp-content/uploads/west_hendon_colindale_kingsbury.jpg',\n",
              "  'https://london-plumber.co.uk/wp-content/uploads/west_kensington.jpg',\n",
              "  'https://london-plumber.co.uk/wp-content/uploads/westminister.jpg',\n",
              "  'https://london-plumber.co.uk/wp-content/themes/staunchandflow/images/cards-ready.png'],\n",
              " 'https://www.aspect.co.uk/trades/plumbing-and-cold-water/': ['https://web.cdn.aspect.co.uk/wp-content/uploads/2018/12/05201331/Plumbing_SP_0406-cleaned-1920x1280-2-1440x960.jpg',\n",
              "  'https://web.cdn.aspect.co.uk/wp-content/uploads/2018/08/05201408/Plumbing_SP_0051_Leaking_Tap-768x433.jpg',\n",
              "  'https://web.cdn.aspect.co.uk/wp-content/uploads/2018/08/05201405/Property_Maintenance_SP_0455_Emergency_Tradesman-768x512.jpg',\n",
              "  'https://web.cdn.aspect.co.uk/wp-content/uploads/2018/08/05201359/Call_Centre2-cleaned-1000px-768x746.jpg',\n",
              "  'https://web.cdn.aspect.co.uk/wp-content/uploads/2022/02/27124842/CIPHE_Sub_IA-sq-300x300.png',\n",
              "  'https://web.cdn.aspect.co.uk/wp-content/uploads/2018/06/05201438/Screen-Shot-2018-06-25-at-13.32.47-768x414.png',\n",
              "  'https://web.cdn.aspect.co.uk/wp-content/uploads/2018/08/05201359/Air_Conditioning_SP_0478_Property_Maintenance-1440x960.jpg',\n",
              "  'https://web.cdn.aspect.co.uk/wp-content/uploads/2018/10/05201344/SEO_Westminster_Chelsea_SP_0645-cleaned-1920x1280-2-768x512.jpg',\n",
              "  'https://www.aspect.co.uk/wp-content/themes/aspect/static/img/van-aspect@3x.png',\n",
              "  'https://www.aspect.co.uk/wp-content/themes/aspect/static/img/payment-cards/visa-202007.png',\n",
              "  'https://www.aspect.co.uk/wp-content/themes/aspect/static/img/payment-cards/mastercard-202007.png',\n",
              "  'https://www.aspect.co.uk/wp-content/themes/aspect/static/img/payment-cards/maestro-202007.png',\n",
              "  'https://www.aspect.co.uk/wp-content/themes/aspect/static/img/payment-cards/amex-202007.png'],\n",
              " 'https://www.houzz.com/professionals/plumbing-contractors/c/London--UK': ['https://st.hzcdn.com/static/for-pros/marketing_solutions.jpg',\n",
              "  'https://st.hzcdn.com/static/for-pros/project_management.png',\n",
              "  'https://st.hzcdn.com/static/for-pros/visualization_tools.jpg',\n",
              "  'https://st.hzcdn.com/fimgs/6a5178ec03604a4d_4861-w150-h150-b0-p0--home-design.jpg',\n",
              "  'https://st.hzcdn.com/fimgs/6b71eef503604a4c_4860-w150-h150-b0-p0--home-design.jpg',\n",
              "  'https://st.hzcdn.com/fimgs/eb6103dd03604a47_4855-w150-h150-b0-p0--home-design.jpg',\n",
              "  'https://st.hzcdn.com/fimgs/ede102c303604a4b_4859-w150-h150-b0-p0--home-design.jpg',\n",
              "  'https://st.hzcdn.com/fimgs/55419141036d1a84_4600-w566-h722-b0-p0--home-design.jpg',\n",
              "  'https://st.hzcdn.com/static/education/directory_pro_category_plumbers@2x.jpg',\n",
              "  'https://st.hzcdn.com/simgs/e9439a29005defe5_0-8997/_.jpg',\n",
              "  'https://st.hzcdn.com/simgs/b0a32c8f0db21d4f_0-4002/_.jpg',\n",
              "  'https://st.hzcdn.com/simgs/10f3a7dc0d53e32e_0-1449/_.jpg',\n",
              "  'https://st.hzcdn.com/simgs/2653642409636813_0-3698/_.jpg',\n",
              "  'https://st.hzcdn.com/simgs/6a63b8a400619646_0-8199/_.jpg',\n",
              "  'https://www.houzz.com/professionals/plumbing-contractors/c/London--UK//www.houzz.com/res/27806470/pic/user_0.png'],\n",
              " 'https://my-plumber.co.uk/about-us/': ['https://my-plumber.co.uk/about-us///cdn.my-plumber.co.uk/wp-content/uploads/2020/08/award-non-retina.png',\n",
              "  'https://my-plumber.co.uk/about-us///cdn.my-plumber.co.uk/wp-content/uploads/2020/08/award-2-non-retina.png',\n",
              "  'https://my-plumber.co.uk/about-us///cdn.my-plumber.co.uk/wp-content/uploads/2020/08/award-3-non-retina.png',\n",
              "  'https://my-plumber.co.uk/about-us///cdn.my-plumber.co.uk/wp-content/uploads/2020/08/award-4-non-retina.png',\n",
              "  'https://my-plumber.co.uk/about-us///cdn.my-plumber.co.uk/images/footer/paymant.png',\n",
              "  'https://my-plumber.co.uk/about-us///cdn.my-plumber.co.uk/images/footer/stripe.png'],\n",
              " 'https://my-plumber.co.uk/areas/': ['https://my-plumber.co.uk/areas///cdn.my-plumber.co.uk/wp-content/uploads/2020/08/areas-background.png',\n",
              "  'https://my-plumber.co.uk/areas///cdn.my-plumber.co.uk/images/layout/paymant.png',\n",
              "  'https://my-plumber.co.uk/areas///cdn.my-plumber.co.uk/images/layout/fantastic-pattern.png',\n",
              "  'https://my-plumber.co.uk/areas///cdn.my-plumber.co.uk/wp-content/uploads/2020/08/award-non-retina.png',\n",
              "  'https://my-plumber.co.uk/areas///cdn.my-plumber.co.uk/wp-content/uploads/2020/08/award-2-non-retina.png',\n",
              "  'https://my-plumber.co.uk/areas///cdn.my-plumber.co.uk/wp-content/uploads/2020/08/award-3-non-retina.png',\n",
              "  'https://my-plumber.co.uk/areas///cdn.my-plumber.co.uk/wp-content/uploads/2020/08/award-4-non-retina.png',\n",
              "  'https://my-plumber.co.uk/areas///cdn.my-plumber.co.uk/images/footer/paymant.png',\n",
              "  'https://my-plumber.co.uk/areas///cdn.my-plumber.co.uk/images/footer/stripe.png'],\n",
              " 'https://london-plumber.co.uk/services/': ['https://london-plumber.co.uk/wp-content/uploads/services-1920x500.png',\n",
              "  'https://london-plumber.co.uk/wp-content/uploads/building_services.jpg',\n",
              "  'https://london-plumber.co.uk/wp-content/uploads/new-roof-600x400.jpg',\n",
              "  'https://london-plumber.co.uk/wp-content/uploads/boilers_and_heating.jpg',\n",
              "  'https://london-plumber.co.uk/wp-content/uploads/aga_rayburn.jpg',\n",
              "  'https://london-plumber.co.uk/wp-content/uploads/gas_landlords.jpg',\n",
              "  'https://london-plumber.co.uk/wp-content/uploads/plumbing.jpg',\n",
              "  'https://london-plumber.co.uk/wp-content/uploads/photo_gallery.jpg',\n",
              "  'https://london-plumber.co.uk/wp-content/uploads/customer_reviews.jpg',\n",
              "  'https://london-plumber.co.uk/wp-content/themes/staunchandflow/images/accreditations/which.png',\n",
              "  'https://london-plumber.co.uk/wp-content/themes/staunchandflow/images/accreditations/vaillant.png',\n",
              "  'https://london-plumber.co.uk/wp-content/themes/staunchandflow/images/accreditations/homepro_insurance.png',\n",
              "  'https://london-plumber.co.uk/wp-content/themes/staunchandflow/images/accreditations/faritrades.jpg',\n",
              "  'https://london-plumber.co.uk/wp-content/themes/staunchandflow/images/accreditations/chas.jpg',\n",
              "  'https://london-plumber.co.uk/wp-content/themes/staunchandflow/images/accreditations/hetas.jpg',\n",
              "  'https://london-plumber.co.uk/wp-content/themes/staunchandflow/images/accreditations/mcs.png',\n",
              "  'https://london-plumber.co.uk/wp-content/themes/staunchandflow/images/accreditations/rayburn_guild.png',\n",
              "  'https://london-plumber.co.uk/wp-content/themes/staunchandflow/images/accreditations/safecontractor.jpg',\n",
              "  'https://london-plumber.co.uk/wp-content/themes/staunchandflow/images/accreditations/trustmark.jpg',\n",
              "  'https://london-plumber.co.uk/wp-content/themes/staunchandflow/images/accreditations/gassafe.png',\n",
              "  'https://london-plumber.co.uk/wp-content/themes/staunchandflow/images/cards-ready.png'],\n",
              " 'https://london-plumber.co.uk/': ['https://london-plumber.co.uk/wp-content/uploads/Staunch-and-Flow-Vans-on-Parliament-Square-1920x500.jpg',\n",
              "  'https://london-plumber.co.uk/wp-content/uploads/radiator-red-1920x500.jpg',\n",
              "  'https://london-plumber.co.uk/wp-content/uploads/Bsmt-17-Stanlake-Villas-5-1-1920x500.jpg',\n",
              "  'https://london-plumber.co.uk/wp-content/uploads/xaga_rayburn.jpg',\n",
              "  'https://london-plumber.co.uk/wp-content/uploads/gas_landlords.jpg',\n",
              "  'https://london-plumber.co.uk/wp-content/uploads/xplumbing.jpg',\n",
              "  'https://london-plumber.co.uk/wp-content/uploads/xbuilding_services.jpg',\n",
              "  'https://london-plumber.co.uk/wp-content/uploads/xnew-roof-600x400.jpg',\n",
              "  'https://london-plumber.co.uk/wp-content/uploads/xboilers_and_heating.jpg',\n",
              "  'https://london-plumber.co.uk/wp-content/uploads/photo_gallery.jpg',\n",
              "  'https://london-plumber.co.uk/wp-content/uploads/xcustomer_reviews.jpg',\n",
              "  'https://london-plumber.co.uk/wp-content/uploads/xshepherds_bush.jpg',\n",
              "  'https://london-plumber.co.uk/wp-content/uploads/xstoke_newington.jpg',\n",
              "  'https://london-plumber.co.uk/wp-content/uploads/xkentish_town.jpg',\n",
              "  'https://london-plumber.co.uk/wp-content/uploads/xregents_park_camden_town_euston_kings_cross.jpg',\n",
              "  'https://london-plumber.co.uk/wp-content/themes/staunchandflow/images/stars/5.png',\n",
              "  'https://london-plumber.co.uk/data:image/png',\n",
              "  'https://london-plumber.co.uk/wp-content/themes/staunchandflow/images/accreditations/which.png',\n",
              "  'https://london-plumber.co.uk/wp-content/themes/staunchandflow/images/accreditations/xvaillant.png',\n",
              "  'https://london-plumber.co.uk/wp-content/themes/staunchandflow/images/accreditations/xhomepro_insurance.png',\n",
              "  'https://london-plumber.co.uk/wp-content/themes/staunchandflow/images/accreditations/xfaritrades.jpg',\n",
              "  'https://london-plumber.co.uk/wp-content/themes/staunchandflow/images/accreditations/chas.jpg',\n",
              "  'https://london-plumber.co.uk/wp-content/themes/staunchandflow/images/accreditations/xhetas.jpg',\n",
              "  'https://london-plumber.co.uk/wp-content/themes/staunchandflow/images/accreditations/xmcs.png',\n",
              "  'https://london-plumber.co.uk/wp-content/themes/staunchandflow/images/accreditations/xrayburn_guild.png',\n",
              "  'https://london-plumber.co.uk/wp-content/themes/staunchandflow/images/accreditations/xsafecontractor.jpg',\n",
              "  'https://london-plumber.co.uk/wp-content/themes/staunchandflow/images/accreditations/xtrustmark.jpg',\n",
              "  'https://london-plumber.co.uk/wp-content/themes/staunchandflow/images/accreditations/gassafe.png',\n",
              "  'https://london-plumber.co.uk/wp-content/themes/staunchandflow/images/cards-ready.png'],\n",
              " 'https://www.homecureplumbers.co.uk/': ['https://www.homecureplumbers.co.uk/wp-content/uploads/2020/02/boilerrepairs-1-800x469.jpg',\n",
              "  'https://www.homecureplumbers.co.uk/wp-content/uploads/2020/02/boilerservice-1-800x469.jpg',\n",
              "  'https://www.homecureplumbers.co.uk/wp-content/uploads/2020/02/boilerinstall-1-800x469.jpg',\n",
              "  'https://www.homecureplumbers.co.uk/wp-content/uploads/2020/08/what-makes-us-different@2x-800x469.jpg',\n",
              "  'https://www.homecureplumbers.co.uk/wp-content/uploads/2020/02/plumbing-1-800x469.jpg',\n",
              "  'https://www.homecureplumbers.co.uk/wp-content/uploads/2020/02/emergencyplumber-800x469.jpg',\n",
              "  'https://www.homecureplumbers.co.uk/wp-content/uploads/2020/02/drainage-2-800x469.jpg',\n",
              "  'https://www.homecureplumbers.co.uk/wp-content/uploads/2020/02/IMG_8133-800x469.jpg',\n",
              "  'https://www.homecureplumbers.co.uk/wp-content/uploads/2020/02/engineer-800x469.jpg',\n",
              "  'https://www.homecureplumbers.co.uk/wp-content/uploads/2020/02/powerflush-1-800x469.jpg',\n",
              "  'https://www.homecureplumbers.co.uk/wp-content/uploads/2020/02/drainage-800x469.jpg',\n",
              "  'https://www.homecureplumbers.co.uk/wp-content/uploads/2020/02/electrician-800x469.jpg',\n",
              "  'https://www.homecureplumbers.co.uk/wp-content/uploads/2019/10/hero-1@2x-1920x1031.jpg',\n",
              "  'https://www.homecureplumbers.co.uk/wp-content/uploads/2019/10/vaillant.png',\n",
              "  'https://www.homecureplumbers.co.uk/wp-content/uploads/2019/10/gas-safe.png',\n",
              "  'https://www.homecureplumbers.co.uk/wp-content/uploads/2019/10/watersafe.png',\n",
              "  'https://www.homecureplumbers.co.uk/wp-content/uploads/2019/10/worcester.png',\n",
              "  'https://www.homecureplumbers.co.uk/wp-content/uploads/2019/10/city-guilds.png',\n",
              "  'https://www.homecureplumbers.co.uk/wp-content/uploads/2019/10/aphc.png',\n",
              "  'https://www.homecureplumbers.co.uk/wp-content/uploads/2019/10/plumbing-service@2x.png',\n",
              "  'https://www.homecureplumbers.co.uk/wp-content/uploads/2019/10/boiler-repair-service@2x-800x437.png',\n",
              "  'https://www.homecureplumbers.co.uk/wp-content/uploads/2019/10/boiler-installation@2x-800x437.png',\n",
              "  'https://www.homecureplumbers.co.uk/wp-content/uploads/2019/10/heating-services@2x-800x437.png',\n",
              "  'https://www.homecureplumbers.co.uk/wp-content/uploads/2019/10/blocked-drains-service@2x-800x437.png',\n",
              "  'https://www.homecureplumbers.co.uk/wp-content/uploads/2019/10/Worcester-Bosch-Logo.png',\n",
              "  'https://www.homecureplumbers.co.uk/wp-content/uploads/2019/10/vaillant-1.png',\n",
              "  'https://www.homecureplumbers.co.uk/wp-content/uploads/2019/10/Glow-worm_Logo.png',\n",
              "  'https://www.homecureplumbers.co.uk/wp-content/uploads/2019/10/MainLogo_RGB.png',\n",
              "  'https://www.homecureplumbers.co.uk/wp-content/uploads/2019/10/ideal.png',\n",
              "  'https://www.homecureplumbers.co.uk/wp-content/uploads/2019/10/kisspng',\n",
              "  'https://www.homecureplumbers.co.uk/wp-content/uploads/2019/10/heatrae.png',\n",
              "  'https://www.homecureplumbers.co.uk/wp-content/themes/salty/assets/images/payment@2x.png'],\n",
              " 'https://www.pimlicoplumbers.com/about-us/': ['https://www.pimlicoplumbers.com/wp-content/uploads/2022/07/timeline-1979-pimlico-birth-768x576.jpg',\n",
              "  'https://www.pimlicoplumbers.com/wp-content/uploads/2022/07/timeline-2000-pimlico-new-hq-768x576.jpg',\n",
              "  'https://www.pimlicoplumbers.com/wp-content/uploads/2022/07/timeline-2004-pimlico-oldest-worker-768x576.jpg',\n",
              "  'https://www.pimlicoplumbers.com/wp-content/uploads/2022/07/timeline-2006-pimlico-female-plumbers-768x576.jpg',\n",
              "  'https://www.pimlicoplumbers.com/wp-content/uploads/2022/07/Timeline-apprentices.jpg',\n",
              "  'https://www.pimlicoplumbers.com/wp-content/uploads/2022/07/timeline-2017-pimlico-fleet-expansion-768x576.jpg',\n",
              "  'https://www.pimlicoplumbers.com/wp-content/uploads/2022/07/Timeline-neighbourly.jpg',\n",
              "  'https://www.pimlicoplumbers.com/wp-content/uploads/2022/07/Pimlico-value-image.jpg',\n",
              "  'https://www.pimlicoplumbers.com/wp-content/uploads/2022/07/Charities-we-work-with-image-content.jpg',\n",
              "  'https://www.pimlicoplumbers.com/wp-content/uploads/2022/07/Want-to-know-more.jpg',\n",
              "  'https://www.pimlicoplumbers.com/wp-content/uploads/2022/11/blog-hot-water-no-heating-2022-feature-768x427.jpg',\n",
              "  'https://www.pimlicoplumbers.com/wp-content/uploads/2022/10/blog-should-repair-replace-boiler-2022-feature-768x427.jpg',\n",
              "  'https://www.pimlicoplumbers.com/wp-content/uploads/2022/11/bonfire-night-fire-alarm-2022-feature-2-768x427.jpg',\n",
              "  'https://www.pimlicoplumbers.com/wp-content/uploads/2022/10/blog-halloween-house-noises-2022-feature-2-768x427.jpg',\n",
              "  'https://www.pimlicoplumbers.com/wp-content/uploads/2022/10/10-common-plumbing-issues-2022-featured-2-768x427.jpg',\n",
              "  'https://www.pimlicoplumbers.com/wp-content/uploads/2022/10/blog-help-toilet-running-2022-feature-768x427.jpg',\n",
              "  'https://www.pimlicoplumbers.com/wp-content/uploads/2022/10/5-blocked-gutter-signs-2022-feature-768x427.jpg',\n",
              "  'https://www.pimlicoplumbers.com/wp-content/uploads/2022/09/HMQueen-Memorial-Post4250-768x403.jpg',\n",
              "  'https://www.pimlicoplumbers.com/wp-content/uploads/2022/09/blog-dont-cut-corners-2022-featured-768x427.jpg',\n",
              "  'https://www.pimlicoplumbers.com/wp-content/uploads/2022/09/blog-gas-safety-week-2022-featured-768x427.jpg',\n",
              "  'https://www.pimlicoplumbers.com/wp-content/uploads/2022/08/Energy-Efficiency-resized-image-768x427.jpg',\n",
              "  'https://www.pimlicoplumbers.com/wp-content/uploads/2022/08/Bathroom-Fitters-resized-image-768x427.jpg'],\n",
              " 'https://plumbforcedirect.co.uk/': ['https://plumbforcedirect.co.uk//images/plumbforce/5-stars-rated.png',\n",
              "  'https://plumbforcedirect.co.uk/data:image/png',\n",
              "  'https://plumbforcedirect.co.uk//images/plumbforce/slider/ss-bg-m.jpg',\n",
              "  'https://plumbforcedirect.co.uk//images/plumbforce/slider/slide-bg.jpg',\n",
              "  'https://plumbforcedirect.co.uk//images/plumbforce/slider/slide-bg-crop.png',\n",
              "  'https://plumbforcedirect.co.uk//images/plumbforce/slider/bubble.png',\n",
              "  'https://plumbforcedirect.co.uk//images/plumbforce/slider/tech-slide1.png',\n",
              "  'https://plumbforcedirect.co.uk//templates/pmtheme/cache/of_1-8432f8fe.png',\n",
              "  'https://plumbforcedirect.co.uk//templates/pmtheme/cache/of_2-ae8e4876.png',\n",
              "  'https://plumbforcedirect.co.uk//templates/pmtheme/cache/2022-05-fixed-p-h-2fdd8e28.png',\n",
              "  'https://plumbforcedirect.co.uk//templates/pmtheme/cache/of_3-01cada31.png',\n",
              "  'https://plumbforcedirect.co.uk//templates/pmtheme/cache/of_7-d14b99ee.png',\n",
              "  'https://plumbforcedirect.co.uk//templates/pmtheme/cache/of_6-7e0f0ba9.png',\n",
              "  'https://plumbforcedirect.co.uk//images/plumbforce/ip-16x9-fast3.jpg',\n",
              "  'https://plumbforcedirect.co.uk//images/plumbforce/ip-16x9-drain-1.jpg',\n",
              "  'https://plumbforcedirect.co.uk//images/plumbforce/ip-16x9-drain-2.jpg',\n",
              "  'https://plumbforcedirect.co.uk//images/plumbforce/ip-16x9-friendly.jpg',\n",
              "  'https://plumbforcedirect.co.uk//templates/pmtheme/cache/gas-safe-register-0cd36e7f.png',\n",
              "  'https://plumbforcedirect.co.uk//templates/pmtheme/cache/energy-efficiency-08b0ca81.png',\n",
              "  'https://plumbforcedirect.co.uk//templates/pmtheme/cache/vaillant-w-2d00e3b8.png'],\n",
              " 'https://www.trustatrader.com/plumbers-in-london': ['https://assets.trustatrader.com/textgram-1585221770.7ganj6.view.14t.jpg',\n",
              "  'https://assets.trustatrader.com/headerleft.r48d8o.view.2bi.jpg'],\n",
              " 'https://my-plumber.co.uk/': ['https://cdn.my-plumber.co.uk/images/layout/hero-arrow.png',\n",
              "  'https://my-plumber.co.uk/data:image/png',\n",
              "  'https://my-plumber.co.uk///cdn.my-plumber.co.uk/wp-content/uploads/2020/08/plumbing-non-retina.png',\n",
              "  'https://my-plumber.co.uk///cdn.my-plumber.co.uk/wp-content/uploads/2020/08/drainage-non-retina.png',\n",
              "  'https://my-plumber.co.uk///cdn.my-plumber.co.uk/wp-content/uploads/2020/08/boilers-non-retina.png',\n",
              "  'https://my-plumber.co.uk///cdn.my-plumber.co.uk/wp-content/uploads/2020/08/heating-non-retina.png',\n",
              "  'https://my-plumber.co.uk///cdn.my-plumber.co.uk/wp-content/uploads/2020/08/appliances-non-retina.png',\n",
              "  'https://my-plumber.co.uk///cdn.my-plumber.co.uk/wp-content/uploads/2020/08/benefits-background-non-retina.jpg',\n",
              "  'https://my-plumber.co.uk///cdn.my-plumber.co.uk/wp-content/uploads/2020/08/certified-non-retina.png',\n",
              "  'https://my-plumber.co.uk///cdn.my-plumber.co.uk/wp-content/uploads/2020/08/guaranteed-non-retina.png',\n",
              "  'https://my-plumber.co.uk///cdn.my-plumber.co.uk/wp-content/uploads/2020/08/convenient-non-retina.png',\n",
              "  'https://my-plumber.co.uk///cdn.my-plumber.co.uk/wp-content/uploads/2020/08/exclusive-access-non-retina.png',\n",
              "  'https://my-plumber.co.uk///cdn.my-plumber.co.uk/wp-content/uploads/2020/08/areas-background.png',\n",
              "  'https://my-plumber.co.uk///cdn.my-plumber.co.uk/wp-content/uploads/2020/08/plumbing-business-back.jpg',\n",
              "  'https://my-plumber.co.uk///cdn.my-plumber.co.uk/wp-content/uploads/2020/08/plumbing-business-non-retina.jpg',\n",
              "  'https://my-plumber.co.uk///cdn.my-plumber.co.uk/wp-content/uploads/2020/08/award-non-retina.png',\n",
              "  'https://my-plumber.co.uk///cdn.my-plumber.co.uk/wp-content/uploads/2020/08/award-2-non-retina.png',\n",
              "  'https://my-plumber.co.uk///cdn.my-plumber.co.uk/wp-content/uploads/2020/08/award-3-non-retina.png',\n",
              "  'https://my-plumber.co.uk///cdn.my-plumber.co.uk/wp-content/uploads/2020/08/award-4-non-retina.png',\n",
              "  'https://my-plumber.co.uk///cdn.my-plumber.co.uk/images/footer/paymant.png',\n",
              "  'https://my-plumber.co.uk///cdn.my-plumber.co.uk/images/footer/stripe.png'],\n",
              " 'https://www.pimlicoplumbers.com/': ['https://www.pimlicoplumbers.com/wp-content/uploads/2022/07/Why-choose-Pimlico-image-content-2.jpg',\n",
              "  'https://www.pimlicoplumbers.com/wp-content/uploads/2022/07/niceic240x172.png',\n",
              "  'https://www.pimlicoplumbers.com/wp-content/uploads/2022/07/gassafe240x172.png',\n",
              "  'https://www.pimlicoplumbers.com/wp-content/uploads/2022/07/chas240x172.png',\n",
              "  'https://www.pimlicoplumbers.com/wp-content/uploads/2022/07/We-serve-all-the-major-boroughs-image-content.jpg',\n",
              "  'https://www.pimlicoplumbers.com/wp-content/uploads/2022/07/What-our-customers-say-768x614.jpg',\n",
              "  'https://www.pimlicoplumbers.com/wp-content/uploads/2022/07/timeline-1979-pimlico-birth-768x576.jpg',\n",
              "  'https://www.pimlicoplumbers.com/wp-content/uploads/2022/07/timeline-2000-pimlico-new-hq-768x576.jpg',\n",
              "  'https://www.pimlicoplumbers.com/wp-content/uploads/2022/07/timeline-2004-pimlico-oldest-worker-768x576.jpg',\n",
              "  'https://www.pimlicoplumbers.com/wp-content/uploads/2022/07/timeline-2006-pimlico-female-plumbers-768x576.jpg',\n",
              "  'https://www.pimlicoplumbers.com/wp-content/uploads/2022/07/Timeline-apprentices.jpg',\n",
              "  'https://www.pimlicoplumbers.com/wp-content/uploads/2022/07/timeline-2017-pimlico-fleet-expansion-768x576.jpg',\n",
              "  'https://www.pimlicoplumbers.com/wp-content/uploads/2022/07/Timeline-neighbourly.jpg',\n",
              "  'https://www.pimlicoplumbers.com/wp-content/uploads/2022/11/blog-hot-water-no-heating-2022-feature-768x427.jpg',\n",
              "  'https://www.pimlicoplumbers.com/wp-content/uploads/2022/10/blog-should-repair-replace-boiler-2022-feature-768x427.jpg',\n",
              "  'https://www.pimlicoplumbers.com/wp-content/uploads/2022/11/bonfire-night-fire-alarm-2022-feature-2-768x427.jpg',\n",
              "  'https://www.pimlicoplumbers.com/wp-content/uploads/2022/10/blog-halloween-house-noises-2022-feature-2-768x427.jpg',\n",
              "  'https://www.pimlicoplumbers.com/wp-content/uploads/2022/10/10-common-plumbing-issues-2022-featured-2-768x427.jpg',\n",
              "  'https://www.pimlicoplumbers.com/wp-content/uploads/2022/10/blog-help-toilet-running-2022-feature-768x427.jpg',\n",
              "  'https://www.pimlicoplumbers.com/wp-content/uploads/2022/10/5-blocked-gutter-signs-2022-feature-768x427.jpg',\n",
              "  'https://www.pimlicoplumbers.com/wp-content/uploads/2022/09/HMQueen-Memorial-Post4250-768x403.jpg',\n",
              "  'https://www.pimlicoplumbers.com/wp-content/uploads/2022/09/blog-dont-cut-corners-2022-featured-768x427.jpg',\n",
              "  'https://www.pimlicoplumbers.com/wp-content/uploads/2022/09/blog-gas-safety-week-2022-featured-768x427.jpg',\n",
              "  'https://www.pimlicoplumbers.com/wp-content/uploads/2022/08/Energy-Efficiency-resized-image-768x427.jpg',\n",
              "  'https://www.pimlicoplumbers.com/wp-content/uploads/2022/08/Bathroom-Fitters-resized-image-768x427.jpg',\n",
              "  'https://www.pimlicoplumbers.com/wp-content/uploads/2022/08/carerr-talk.jpg',\n",
              "  'https://www.pimlicoplumbers.com/wp-content/uploads/2022/08/carerr-talk-768x496.jpg'],\n",
              " 'https://london-plumber.co.uk/knowledge-base/': ['https://london-plumber.co.uk/wp-content/themes/staunchandflow/images/knowledgebase.jpg',\n",
              "  'https://london-plumber.co.uk/wp-content/themes/staunchandflow/images/cards-ready.png']}"
            ]
          },
          "metadata": {},
          "execution_count": 81
        }
      ]
    },
    {
      "cell_type": "code",
      "source": [],
      "metadata": {
        "colab": {
          "base_uri": "https://localhost:8080/"
        },
        "id": "PrzmsTT47fHA",
        "outputId": "cf4a0c32-c99b-4578-83e9-1d955ae68f24"
      },
      "execution_count": null,
      "outputs": [
        {
          "output_type": "execute_result",
          "data": {
            "text/plain": [
              "21"
            ]
          },
          "metadata": {},
          "execution_count": 77
        }
      ]
    },
    {
      "cell_type": "code",
      "source": [],
      "metadata": {
        "id": "lzuXzzNS-mNL"
      },
      "execution_count": null,
      "outputs": []
    }
  ]
}